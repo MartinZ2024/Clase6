{
 "cells": [
  {
   "cell_type": "markdown",
   "metadata": {},
   "source": [
    "1. Calculadora de IMC (Índice de Masa Corporal):\n",
    "Cree una función que calcule el IMC (Índice de Masa Corporal) de una persona a partir de su peso y altura. La función debe recibir como parámetros el peso (en kg) y la altura (en cm) y devolver el valor del IMC.\n",
    "Opcional: Implemente una segunda función que clasifique el IMC según los estándares de la OMS:\n",
    "•\tBajo peso: IMC < 18.5\n",
    "•\tPeso normal: 18.5 <= IMC < 25\n",
    "•\tSobrepeso: 25 <= IMC < 30\n",
    "•\tObesidad: IMC >= 30\n"
   ]
  },
  {
   "cell_type": "code",
   "execution_count": 123,
   "metadata": {},
   "outputs": [],
   "source": [
    "def cal_imc(peso, altura):\n",
    "    altura=altura/100 #la latura debe estar en metros para la fórmula\n",
    "    try:\n",
    "        imc=peso/(altura*altura)\n",
    "        print(f\"Su IMC es: {imc}\")\n",
    "    except ZeroDivisionError:\n",
    "        print(\"La altura no puede ser cero\")\n",
    "        imc=-1\n",
    "    return(imc)"
   ]
  },
  {
   "cell_type": "code",
   "execution_count": 124,
   "metadata": {},
   "outputs": [],
   "source": [
    "def calif_est(imc):\n",
    "    if imc==-1:\n",
    "        print(\"La altura no puede ser cero\") \n",
    "    elif imc<18.5:\n",
    "        print(f\"Según la OMS de acuerdo a tu IMC estas bajo de peso\")\n",
    "    elif 18.5<=imc<25:    \n",
    "        print(f\"Según la OMS de acuerdo a tu IMC estas en tu peso ideal\")\n",
    "    elif 25<=imc<30:    \n",
    "        print(f\"Según la OMS de acuerdo a tu IMC tienes sobrepeso\")\n",
    "    else:\n",
    "        print(f\"Según la OMS de acuerdo a tu IMC tienes obesidad\")   \n",
    "    "
   ]
  },
  {
   "cell_type": "code",
   "execution_count": 170,
   "metadata": {},
   "outputs": [
    {
     "name": "stdout",
     "output_type": "stream",
     "text": [
      "Su IMC es: 24.218749999999996\n",
      "Según la OMS de acuerdo a tu IMC estas en tu peso ideal\n"
     ]
    }
   ],
   "source": [
    "imc1=cal_imc(62,160)\n",
    "califica=calif_est(imc1)\n",
    "   "
   ]
  },
  {
   "cell_type": "markdown",
   "metadata": {},
   "source": [
    "2. Analizador de números:\n",
    "Cree una función que reciba un número entero como parámetro y devuelva un diccionario con la siguiente información:\n",
    "•\tSi el número es par o impar\n",
    "•\tSi el número es positivo, negativo o cero\n",
    "•\tSi el número es divisible por 3\n",
    "•\tSi el número es divisible por 5\n",
    "•\tSi el número es divisible por 3 y por 5\n",
    "Opcional: Implemente la función utilizando una función lambda para cada una de las verificaciones.\n"
   ]
  },
  {
   "cell_type": "code",
   "execution_count": 61,
   "metadata": {},
   "outputs": [],
   "source": [
    "def analiza(num):\n",
    "    if num != 0:\n",
    "        r=num%2\n",
    "        if r==0:\n",
    "            a={\"Numero par\":num}\n",
    "        else:\n",
    "            a={\"Numero impar\":num}\n",
    "        if num<0:\n",
    "            a[\"Numero negativo\"]=num    \n",
    "        else:\n",
    "            a[\"Numero positivo\"]=num\n",
    "        d3=num%3\n",
    "        if d3==0:\n",
    "            a[\"Numero divisible en 3\"]=num\n",
    "        d5=num%5\n",
    "        if d5==0:\n",
    "            a[\"Numero divisible en 5\"]=num\n",
    "        if d3==0 and d5==0:\n",
    "            a[\"Número divisible en 3 y en 5\"]=num            \n",
    "    else:\n",
    "        a={\"Numero cero\":num}\n",
    "    return(a)\n"
   ]
  },
  {
   "cell_type": "code",
   "execution_count": 60,
   "metadata": {},
   "outputs": [
    {
     "data": {
      "text/plain": [
       "{'Numero cero': 0}"
      ]
     },
     "execution_count": 60,
     "metadata": {},
     "output_type": "execute_result"
    }
   ],
   "source": [
    "analiza(0)"
   ]
  },
  {
   "cell_type": "markdown",
   "metadata": {},
   "source": [
    "Código usando función lambda"
   ]
  },
  {
   "cell_type": "code",
   "execution_count": 63,
   "metadata": {},
   "outputs": [],
   "source": [
    "analiza2 = lambda num: {\"Número Cero\": num} if num == 0 else {\"Número par\" if num % 2 == 0 else \"Número impar\": num,\n",
    "                                                              \"Número negativo\" if num < 0 else \"Número positivo\": num,\n",
    "                                                              \"Número divisible en 3\" if num % 3 == 0 else None: num,\n",
    "                                                              \"Número divisible en 5\" if num % 5 == 0 else None: num,\n",
    "                                                              \"Número divisible en 3 y en 5\" if num % 3 == 0 and num % 5 == 0 else None: num}\n",
    "\n"
   ]
  },
  {
   "cell_type": "code",
   "execution_count": 65,
   "metadata": {},
   "outputs": [
    {
     "data": {
      "text/plain": [
       "{'Número impar': 15,\n",
       " 'Número positivo': 15,\n",
       " 'Número divisible en 3': 15,\n",
       " 'Número divisible en 5': 15,\n",
       " 'Número divisible en 3 y en 5': 15}"
      ]
     },
     "execution_count": 65,
     "metadata": {},
     "output_type": "execute_result"
    }
   ],
   "source": [
    "analiza2(15)\n"
   ]
  },
  {
   "cell_type": "markdown",
   "metadata": {},
   "source": [
    "3. Calculadora de área y perímetro de figuras geométricas:\n",
    "Cree funciones para calcular el área y perímetro de las siguientes figuras geométricas:\n",
    "•\tCuadrado\n",
    "•\tTriángulo (equilátero, rectángulo e isósceles)\n",
    "•\tCírculo\n",
    "•\tRectángulo\n",
    "Cada función debe recibir las dimensiones necesarias como parámetros y devolver el valor correspondiente del área o perímetro.\n"
   ]
  },
  {
   "cell_type": "code",
   "execution_count": 2,
   "metadata": {},
   "outputs": [],
   "source": [
    "import math\n",
    "def c_cu(lado):\n",
    "    print(f\"El area del cuadrado es:{lado*lado}\\nSu perímetro es:{lado*4}\")\n",
    "def c_tri(l1,l2,l3):\n",
    "    sp=(l1+l2+l3)/2 #calcula el semiperimetro\n",
    "    ar=math.sqrt(sp*((sp-l1)*(sp-l2)*(sp-l3)))#calcula el area\n",
    "    print(f\"El area del triangulo es:{ar}\\nSu perímetro es:{l1+l2+l3}\")\n",
    "def c_cir(radio):\n",
    "    print(f\"El area del circulo es:{radio*radio*math.pi}\\nSu perímetro es:{2*radio*math.pi}\") \n",
    "def c_rec(lM,lm):\n",
    "    print(f\"El area del rectangulo es:{lM*lm}\\nSu perímetro es:{lM*2+lm*2}\")          "
   ]
  },
  {
   "cell_type": "code",
   "execution_count": 4,
   "metadata": {},
   "outputs": [
    {
     "name": "stdout",
     "output_type": "stream",
     "text": [
      "Calculadora de areas y perimetros\n",
      "Ingrese la opcion para la figura a la cual desea obtener su área y perímetro\n",
      "1: Para cuadrado\n",
      "2: Para triángulo\n",
      "3: Para circulo\n",
      "4: Para rectangulo\n",
      "\n",
      "Usted eligió la opcion 4\n",
      "Ingrese el lado mayor del rectangulo:\n",
      "Ingrese el lado menor del rectangulo:\n",
      "El valor del lado mayor es:4.0\n",
      "El valor del lado menor es:3.0\n",
      "\n",
      "El area del rectangulo es:12.0\n",
      "Su perímetro es:14.0\n"
     ]
    }
   ],
   "source": [
    "print(\"Calculadora de areas y perimetros\")\n",
    "op=input(print(\"Ingrese la opcion para la figura a la cual desea obtener su área y perímetro\\n1: Para cuadrado\\n2: Para triángulo\\n3: Para circulo\\n4: Para rectangulo\\n\")) \n",
    "if op==\"1\":\n",
    "    print(\"Usted eligió la opcion 1\")\n",
    "    lado=float(input(print(\"Ingrese el lado del cuadrado:\")))\n",
    "    print(\"El valor ingresado es:\",lado)\n",
    "    c_cu(lado)\n",
    "if op==\"2\":\n",
    "    print(\"Usted eligió la opcion 2\")\n",
    "    l1=float(input(print(\"Ingrese el primer lado del triángulo:\")))\n",
    "    l2=float(input(print(\"Ingrese el segundo lado del triángulo:\")))\n",
    "    l3=float(input(print(\"Ingrese el tercer lado del triángulo:\")))\n",
    "    print(f\"El valor del lado 1 es:{l1}\\nEl valor del lado 2 es:{l2}\\nEl valor del lado 3 es:{l3}\\n\")\n",
    "    c_tri(l1,l2,l3)\n",
    "if op==\"3\":\n",
    "    print(\"Usted eligió la opcion 3\")\n",
    "    radio=float(input(print(\"Ingrese el radio del circulo:\")))\n",
    "    print(f\"Evalor del radio es:{radio}\\n\")\n",
    "    c_cir(radio)\n",
    "if op==\"4\":\n",
    "    print(\"Usted eligió la opcion 4\")\n",
    "    lmay=float(input(print(\"Ingrese el lado mayor del rectangulo:\")))\n",
    "    lmen=float(input(print(\"Ingrese el lado menor del rectangulo:\")))\n",
    "    print(f\"El valor del lado mayor es:{lmay}\")\n",
    "    print(f\"El valor del lado menor es:{lmen}\\n\")\n",
    "    c_rec(lmay,lmen)\n",
    "if op!=\"1\" and op!=\"2\" and op!=\"3\" and op!=\"4\":\n",
    "    print(f\"La opcion elegida {op} no es valida\")\n",
    "\n"
   ]
  }
 ],
 "metadata": {
  "kernelspec": {
   "display_name": "Python 3",
   "language": "python",
   "name": "python3"
  },
  "language_info": {
   "codemirror_mode": {
    "name": "ipython",
    "version": 3
   },
   "file_extension": ".py",
   "mimetype": "text/x-python",
   "name": "python",
   "nbconvert_exporter": "python",
   "pygments_lexer": "ipython3",
   "version": "3.11.5"
  }
 },
 "nbformat": 4,
 "nbformat_minor": 2
}
